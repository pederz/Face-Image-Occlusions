{
 "cells": [
  {
   "cell_type": "code",
   "execution_count": null,
   "id": "2e6ee5da-3cc9-4fb4-b61f-9d203a6cb0ec",
   "metadata": {
    "tags": []
   },
   "outputs": [],
   "source": [
    "import cv2\n",
    "import numpy as np\n",
    "from tqdm import tqdm\n",
    "import os\n",
    "import sys\n",
    "import insightface"
   ]
  },
  {
   "cell_type": "code",
   "execution_count": null,
   "id": "71a45fd4-8478-4b8e-a203-8c07835f83c0",
   "metadata": {},
   "outputs": [],
   "source": [
    "synthetic_images = './results/'\n",
    "embedding_synthetic_path_root = './embeddings/synthetic/'"
   ]
  },
  {
   "cell_type": "code",
   "execution_count": null,
   "id": "bc012c07-40ec-423d-b254-3abcb9f65c16",
   "metadata": {},
   "outputs": [],
   "source": [
    "fr_model = insightface.app.FaceAnalysis(providers=[\n",
    "                                        'CUDAExecutionProvider', 'CPUExecutionProvider'])\n",
    "ctx_id = 0\n",
    "fr_model.prepare(ctx_id=ctx_id, det_thresh=0.1)"
   ]
  },
  {
   "cell_type": "code",
   "execution_count": null,
   "id": "b96d4d60-195c-4d40-8362-3beda35f8afb",
   "metadata": {
    "tags": []
   },
   "outputs": [],
   "source": [
    "### Synthetic images\n",
    "synthetic_face_not_found = np.zeros(0, dtype=object, order='C')\n",
    "for file in tqdm(os.listdir(synthetic_images)):\n",
    "    embedding_synthetic_path = embedding_synthetic_path_root + os.path.splitext(file)[0] + \".npy\"\n",
    "    if os.path.exists(embedding_synthetic_path):\n",
    "        continue\n",
    "    ext = os.path.splitext(file)[1]\n",
    "    if (ext == \".jpg\" or ext == \".png\" or ext == \".jpeg\"): # Ignoring other files than .png, jpeg, jpg\n",
    "        face = fr_model.get(cv2.imread(synthetic_images + file))\n",
    "        if face:\n",
    "            embedding = face[0].normed_embedding\n",
    "            np.save(embedding_synthetic_path,embedding)\n",
    "        else: # If face is not found, append path of file to list over faces not found\n",
    "            synthetic_face_not_found = np.append(synthetic_face_not_found, (synthetic_images + file))"
   ]
  },
  {
   "cell_type": "code",
   "execution_count": null,
   "id": "a1ce647e-262c-418d-acd8-88d2c1072432",
   "metadata": {},
   "outputs": [],
   "source": [
    "if len(synthetic_face_not_found) != 0:\n",
    "    print(\"Number of faces not detected in synthetic images folder:\",\n",
    "          len(synthetic_face_not_found), file=sys.stderr)\n",
    "    print(synthetic_face_not_found)\n",
    "    print(*synthetic_face_not_found, sep=\"\\n\", file=sys.stderr)"
   ]
  }
 ],
 "metadata": {
  "kernelspec": {
   "display_name": "Python 3 (ipykernel)",
   "language": "python",
   "name": "python3"
  },
  "language_info": {
   "codemirror_mode": {
    "name": "ipython",
    "version": 3
   },
   "file_extension": ".py",
   "mimetype": "text/x-python",
   "name": "python",
   "nbconvert_exporter": "python",
   "pygments_lexer": "ipython3",
   "version": "3.10.6"
  }
 },
 "nbformat": 4,
 "nbformat_minor": 5
}
