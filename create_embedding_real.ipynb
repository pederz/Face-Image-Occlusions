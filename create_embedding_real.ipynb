{
 "cells": [
  {
   "cell_type": "code",
   "execution_count": null,
   "id": "2e6ee5da-3cc9-4fb4-b61f-9d203a6cb0ec",
   "metadata": {
    "tags": []
   },
   "outputs": [],
   "source": [
    "### Real images embeddings\n",
    "import numpy as np\n",
    "import cv2\n",
    "import os\n",
    "import sys\n",
    "import insightface\n",
    "from tqdm.auto import tqdm"
   ]
  },
  {
   "cell_type": "code",
   "execution_count": null,
   "id": "71a45fd4-8478-4b8e-a203-8c07835f83c0",
   "metadata": {},
   "outputs": [],
   "source": [
    "real_images = './samples/'\n",
    "embedding_real_path_root = './embeddings/real/'"
   ]
  },
  {
   "cell_type": "code",
   "execution_count": null,
   "id": "bc012c07-40ec-423d-b254-3abcb9f65c16",
   "metadata": {},
   "outputs": [],
   "source": [
    "fr_model = insightface.app.FaceAnalysis(\n",
    "    providers=['CUDAExecutionProvider', 'CPUExecutionProvider'])\n",
    "ctx_id = 0\n",
    "fr_model.prepare(ctx_id = ctx_id, det_thresh=0.1)"
   ]
  },
  {
   "cell_type": "code",
   "execution_count": null,
   "id": "c86b27ef-2909-426c-92a2-3a16428eab41",
   "metadata": {
    "tags": []
   },
   "outputs": [],
   "source": [
    "real_face_not_found = np.zeros(0, dtype=object, order='C')\n",
    "for file in tqdm(os.listdir(real_images), file=sys.stdout):\n",
    "    embedding_real_path = os.path.join(\n",
    "        embedding_real_path_root, os.path.splitext(file)[0] + '.npy')    \n",
    "    if os.path.exists(embedding_real_path): # if embedding exist, ignore\n",
    "        continue\n",
    "    extension = os.path.splitext(file)[1].lower()\n",
    "    if '.jpg' or '.png' or '.jpeg' in extension:\n",
    "        face = fr_model.get(cv2.imread(os.path.join(real_images,file)))\n",
    "        if face:\n",
    "            embedding = face[0].normed_embedding\n",
    "            np.save(embedding_real_path, embedding)\n",
    "        else: # If not face, append to list over faces not found\n",
    "            real_face_not_found = np.append(real_face_not_found, (real_images + file))"
   ]
  },
  {
   "cell_type": "code",
   "execution_count": null,
   "id": "a1ce647e-262c-418d-acd8-88d2c1072432",
   "metadata": {},
   "outputs": [],
   "source": [
    "if len(real_face_not_found) != 0:\n",
    "      print(\"Number of faces not detected in real images:\",\n",
    "            len(real_face_not_found), file=sys.stderr)\n",
    "      print(*real_face_not_found, sep=\"\\n\", file=sys.stderr)"
   ]
  }
 ],
 "metadata": {
  "kernelspec": {
   "display_name": "Python 3 (ipykernel)",
   "language": "python",
   "name": "python3"
  },
  "language_info": {
   "codemirror_mode": {
    "name": "ipython",
    "version": 3
   },
   "file_extension": ".py",
   "mimetype": "text/x-python",
   "name": "python",
   "nbconvert_exporter": "python",
   "pygments_lexer": "ipython3",
   "version": "3.11.2"
  }
 },
 "nbformat": 4,
 "nbformat_minor": 5
}
