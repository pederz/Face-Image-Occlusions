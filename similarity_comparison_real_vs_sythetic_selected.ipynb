{
 "cells": [
  {
   "cell_type": "code",
   "execution_count": null,
   "id": "146d6d80-aff7-40f8-9dd2-ea1407eeb3e9",
   "metadata": {
    "tags": []
   },
   "outputs": [],
   "source": [
    "import numpy as np\n",
    "import glob\n",
    "import sys\n",
    "from tqdm import tqdm\n",
    "import os\n",
    "import random"
   ]
  },
  {
   "cell_type": "code",
   "execution_count": null,
   "id": "9411ce25-12b6-4dd9-9c7e-7e5d0454e656",
   "metadata": {
    "tags": []
   },
   "outputs": [],
   "source": [
    "# Selected synthetic occlusions\n",
    "# so if glass and mask => glass = 1 and mask = 1 and cap = 0\n",
    "mask = 1\n",
    "cap = 0\n",
    "glass = 0\n",
    "sunglass = 1\n",
    "\n",
    "# Paths used in the script\n",
    "embeddings_real_images = './embeddings/real/'\n",
    "embeddings_synthetic_images = './embeddings/synthetic/'\n",
    "scores_path = './similarity_scores/'"
   ]
  },
  {
   "cell_type": "code",
   "execution_count": null,
   "id": "3b801be3-c5b2-45e1-85c3-daab9640cc1d",
   "metadata": {},
   "outputs": [],
   "source": [
    "# Creating filter based on selected occlusions\n",
    "select_occlusions = ''\n",
    "non_selected_occlusions = ['_mask', '_cap', '_glass', '_sunglass']\n",
    "if mask:\n",
    "    select_occlusions = '_mask'\n",
    "    non_selected_occlusions.remove('_mask')\n",
    "if cap:\n",
    "    select_occlusions = select_occlusions + '_cap'\n",
    "    non_selected_occlusions.remove('_cap')\n",
    "if glass:\n",
    "    select_occlusions = select_occlusions + '_glass'\n",
    "    non_selected_occlusions.remove('_glass')\n",
    "if sunglass:\n",
    "    select_occlusions = select_occlusions + '_sunglass'\n",
    "    non_selected_occlusions.remove('_sunglass')"
   ]
  },
  {
   "cell_type": "code",
   "execution_count": null,
   "id": "d8ef45ab-72f8-4fd5-80ca-60490d78c722",
   "metadata": {},
   "outputs": [],
   "source": [
    "file_names = [os.path.basename(file) for file in glob.glob(embeddings_synthetic_images + '*.npy')]\n",
    "filtered_file_names = []\n",
    "for file in file_names:\n",
    "    if select_occlusions in file and not any(str in file for str in non_selected_occlusions):\n",
    "        filtered_file_names.append(file)"
   ]
  },
  {
   "cell_type": "code",
   "execution_count": null,
   "id": "a5134d00-3338-4185-9fc3-f29b7094b8f8",
   "metadata": {
    "tags": []
   },
   "outputs": [],
   "source": [
    "def similarity(embeddings1, embeddings2):\n",
    "    embeddings1=embeddings1.astype(np.float64)\n",
    "    embeddings2=embeddings2.astype(np.float64)\n",
    "    # Cosine similarity\n",
    "    dot = np.sum(np.multiply(embeddings1, embeddings2), axis=0)\n",
    "    norm = np.linalg.norm(embeddings1, axis=0) * np.linalg.norm(embeddings2, axis=0)\n",
    "    similarity = dot/norm\n",
    "    similarity = min(1,similarity)\n",
    "    return similarity"
   ]
  },
  {
   "cell_type": "code",
   "execution_count": null,
   "id": "35ef94b5-844d-4848-909a-db2abdecf84c",
   "metadata": {
    "tags": []
   },
   "outputs": [],
   "source": [
    "# Real vs synthetic images\n",
    "\n",
    "mated_comp_count = 0\n",
    "non_mated_comp_count = 0\n",
    "\n",
    "real_vs_synthetic_images_mated = np.zeros(0, dtype=float, order='C')\n",
    "real_vs_synthetic_images_non_mated = np.zeros(0, dtype=float, order='C')\n",
    "\n",
    "file_names = [os.path.basename(file) for file in glob.glob(embeddings_real_images + '*.npy')]\n",
    "ids = [file.split('_')[0] for file in file_names] \n",
    "ids = [*set(ids)]\n",
    "\n",
    "for id in tqdm(ids, file=sys.stdout):\n",
    "    images_of_id = glob.glob(embeddings_real_images + id + '*')\n",
    "    reference_feature = random.choice(images_of_id)\n",
    "    reference_feature_embedding = np.load(reference_feature)\n",
    "    for file in filtered_file_names:\n",
    "        file_path = embeddings_synthetic_images + file\n",
    "        if file.split('_')[0] == id: # Mated comparison\n",
    "            mated_comp_count += 1\n",
    "            mated_feature_embedding = np.load(file_path)\n",
    "            real_vs_synthetic_images_mated = np.append(real_vs_synthetic_images_mated, \n",
    "                                          similarity(reference_feature_embedding, mated_feature_embedding))\n",
    "        else: # Non-mated comparison\n",
    "            non_mated_comp_count += 1\n",
    "            non_mated_feature_embedding = np.load(file_path)           \n",
    "            real_vs_synthetic_images_non_mated = np.append(real_vs_synthetic_images_non_mated, \n",
    "                                                           similarity(reference_feature_embedding, non_mated_feature_embedding))            \n",
    "print('Real vs synthetic mated comparisons: ', mated_comp_count)\n",
    "print('Real vs synthetic non-mated comparisons: ', non_mated_comp_count)"
   ]
  },
  {
   "cell_type": "code",
   "execution_count": null,
   "id": "3656b6cd-6b1d-4289-b821-3b297adc31fd",
   "metadata": {
    "tags": []
   },
   "outputs": [],
   "source": [
    "# Saving the similarity score if scores exist\n",
    "if select_occlusions:\n",
    "    if (len(real_vs_synthetic_images_mated) == 0 and len(real_vs_synthetic_images_non_mated) == 0):\n",
    "        print('No embeddings for given occlusions found in the directories', file=sys.stderr)\n",
    "    else:\n",
    "        if not os.path.isdir(scores_path):\n",
    "            os.makedirs(scores_path)\n",
    "\n",
    "        if (len(real_vs_synthetic_images_mated) == 0):\n",
    "            print('No mated comparisons for the given occlusions',\n",
    "                  file=sys.stderr)\n",
    "        else:\n",
    "            np.save((scores_path + 'real_vs_synthetic_images_mated'\n",
    "                + select_occlusions + '.npy'), real_vs_synthetic_images_mated)\n",
    "        \n",
    "        if (len(real_vs_synthetic_images_non_mated) == 0):\n",
    "            print('No non-mated comparisons for the given occlusions',\n",
    "                  file=sys.stderr)\n",
    "        else:\n",
    "            np.save((scores_path + 'real_vs_synthetic_images_non-mated'\n",
    "                + select_occlusions + '.npy'), real_vs_synthetic_images_non_mated)\n",
    "else:\n",
    "    print('Run terminated because occlusions is not selected', file=sys.stderr)"
   ]
  }
 ],
 "metadata": {
  "kernelspec": {
   "display_name": "Python 3 (ipykernel)",
   "language": "python",
   "name": "python3"
  },
  "language_info": {
   "codemirror_mode": {
    "name": "ipython",
    "version": 3
   },
   "file_extension": ".py",
   "mimetype": "text/x-python",
   "name": "python",
   "nbconvert_exporter": "python",
   "pygments_lexer": "ipython3",
   "version": "3.11.2"
  }
 },
 "nbformat": 4,
 "nbformat_minor": 5
}
