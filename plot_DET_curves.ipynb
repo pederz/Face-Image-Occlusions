{
 "cells": [
  {
   "cell_type": "code",
   "execution_count": null,
   "id": "1c52647d-95fd-4c07-916c-e766c3c08b58",
   "metadata": {},
   "outputs": [],
   "source": [
    "import numpy as np\n",
    "import os\n",
    "import glob\n",
    "from DET import DET\n",
    "\n",
    "scores_path = 'similarity_scores/'\n",
    "\n",
    "plot_root = 'plots_DET/'\n",
    "\n",
    "if not os.path.exists(plot_root):\n",
    "    os.mkdir(plot_root)"
   ]
  },
  {
   "cell_type": "code",
   "execution_count": null,
   "id": "a566533f-616b-45f4-bf65-b4abd62f5127",
   "metadata": {},
   "outputs": [],
   "source": [
    "filtered_files = []\n",
    "order = ['real','real_vs_synthetic_cap','real_vs_synthetic_glass','real_vs_synthetic_sunglass', 'real_vs_synthetic_mask']\n",
    "\n",
    "for file in [os.path.basename(file) for file in glob.glob(scores_path + '*.npy')]:\n",
    "    filename = os.path.splitext(file)[0]\n",
    "    #print(filename)\n",
    "    if 'real' and not 'synthetic' in filename:\n",
    "        filtered_files.append('_'.join(filename.split('_')[:-1]))\n",
    "    elif len(file.split('_')[3:-1]) == 1:\n",
    "        filtered_files.append('_'.join(filename.split('_')[:-1]))\n",
    "filtered_files = [*set(filtered_files)]\n",
    "filtered_files = sorted(filtered_files, key=order.index)\n",
    "\n",
    "det = DET(biometric_evaluation_type='algorithm')\n",
    "det.create_figure()\n",
    "for file in filtered_files:\n",
    "    non_mated = np.load(os.path.join(scores_path,file+'_non-mated.npy'))\n",
    "    mated = np.load(os.path.join(scores_path,file+'_mated.npy'))\n",
    "    if len(file.split('_')[3:]) == 1:\n",
    "        system = file.split('_')[3:][0]\n",
    "    else:\n",
    "        system = 'baseline'\n",
    "    det.plot(tar=mated, non=non_mated, label=system)\n",
    "det.legend_on()\n",
    "det.save(plot_root + 'baseline_single_occ', 'pdf')"
   ]
  },
  {
   "cell_type": "code",
   "execution_count": null,
   "id": "8d737ddc-ba4d-45d0-a557-32abacfb4b14",
   "metadata": {},
   "outputs": [],
   "source": [
    "filters = ['_mask_m','_mask_sunglass_m','_mask_sunglass_cap_m']\n",
    "order = ['baseline','mask','mask_sunglass','mask_sunglass_cap']\n",
    "filtered_files = []\n",
    "\n",
    "for file in [os.path.basename(file) for file in glob.glob(scores_path + '*_mated.npy')]:\n",
    "    filename = os.path.splitext(file)[0]\n",
    "    if 'real' and not 'synthetic' in filename:\n",
    "        filtered_files.append(['baseline','_'.join(filename.split('_')[:-1])])\n",
    "    elif any(substring in filename for substring in filters):\n",
    "        filtered_files.append(['_'.join(filename.split('_')[3:-1]), '_'.join(filename.split('_')[:-1])])\n",
    "filtered_files = sorted(filtered_files, key=lambda x: x[1])\n",
    "det = DET(biometric_evaluation_type='algorithm')\n",
    "det.x_limits = np.array([1e-7, .95])\n",
    "det.y_limits = np.array([1e-7, .95])\n",
    "det.create_figure()\n",
    "for legend, file in filtered_files:\n",
    "    non_mated = np.load(os.path.join(scores_path,file+'_non-mated.npy'))\n",
    "    mated = np.load(os.path.join(scores_path,file+'_mated.npy'))\n",
    "    legend = ', '.join(legend.split('_'))\n",
    "    det.plot(tar=mated, non=non_mated, label=legend)\n",
    "det.legend_on()\n",
    "det.save(plot_root + 'baseline_selected_occ', 'pdf')"
   ]
  },
  {
   "cell_type": "code",
   "execution_count": null,
   "id": "4d1d4a6c-1315-48f4-ba0a-d3112629786e",
   "metadata": {},
   "outputs": [],
   "source": [
    "det = DET()\n",
    "det.x_limits = np.array([1e-7, .95])\n",
    "det.y_limits = np.array([1e-7, .95])\n",
    "det.create_figure()\n",
    "if os.path.exists(scores_path+'real_mated.npy') and os.path.exists(scores_path+'real_non-mated.npy'):\n",
    "    mated = np.load(os.path.join(scores_path,'real_mated.npy'))\n",
    "    non_mated = np.load(os.path.join(scores_path,'real_non-mated.npy'))\n",
    "    det.plot(tar=mated, non=non_mated, label='original dataset')\n",
    "\n",
    "if os.path.exists(scores_path+'real_vs_synthetic_mated.npy') and os.path.exists(scores_path+'real_vs_synthetic_non-mated.npy'):\n",
    "    mated = np.load(os.path.join(scores_path,'real_vs_synthetic_mated.npy'))\n",
    "    non_mated = np.load(os.path.join(scores_path,'real_vs_synthetic_non-mated.npy'))\n",
    "    det.plot(tar=mated, non=non_mated, label='occluded dataset')\n",
    "\n",
    "det.legend_on()\n",
    "det.save(plot_root + 'dataset-occluded_dataset', 'pdf')"
   ]
  }
 ],
 "metadata": {
  "kernelspec": {
   "display_name": "Python 3 (ipykernel)",
   "language": "python",
   "name": "python3"
  },
  "language_info": {
   "codemirror_mode": {
    "name": "ipython",
    "version": 3
   },
   "file_extension": ".py",
   "mimetype": "text/x-python",
   "name": "python",
   "nbconvert_exporter": "python",
   "pygments_lexer": "ipython3",
   "version": "3.10.11"
  }
 },
 "nbformat": 4,
 "nbformat_minor": 5
}
