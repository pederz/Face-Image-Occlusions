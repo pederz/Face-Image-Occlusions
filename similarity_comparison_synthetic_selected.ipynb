{
 "cells": [
  {
   "cell_type": "code",
   "execution_count": null,
   "id": "146d6d80-aff7-40f8-9dd2-ea1407eeb3e9",
   "metadata": {
    "tags": []
   },
   "outputs": [],
   "source": [
    "import numpy as np\n",
    "import glob\n",
    "import sys\n",
    "from tqdm.auto import tqdm\n",
    "import os\n",
    "import random"
   ]
  },
  {
   "cell_type": "code",
   "execution_count": null,
   "id": "9411ce25-12b6-4dd9-9c7e-7e5d0454e656",
   "metadata": {
    "tags": []
   },
   "outputs": [],
   "source": [
    "# Selected synthetic occlusions\n",
    "# so if glass and mask => glass = 1 and mask = 1 and cap = 0\n",
    "mask = 0\n",
    "glass = 0\n",
    "sunglass = 0\n",
    "cap = 1\n",
    "\n",
    "# Paths used in the script\n",
    "embeddings_synthetic_images = './embeddings/synthetic/'\n",
    "scores_path_root = \"./similarity_scores/\""
   ]
  },
  {
   "cell_type": "code",
   "execution_count": null,
   "id": "3b801be3-c5b2-45e1-85c3-daab9640cc1d",
   "metadata": {},
   "outputs": [],
   "source": [
    "# Creating filter based on selected occlusions\n",
    "select_occlusions = ''\n",
    "non_selected_occlusions = ['_mask', '_glass', '_sunglass', '_cap']\n",
    "if mask:\n",
    "    select_occlusions = '_mask'\n",
    "    non_selected_occlusions.remove('_mask')\n",
    "if glass:\n",
    "    select_occlusions = select_occlusions + '_glass'\n",
    "    non_selected_occlusions.remove('_glass')\n",
    "if sunglass:\n",
    "    select_occlusions = select_occlusions + '_sunglass'\n",
    "    non_selected_occlusions.remove('_sunglass')\n",
    "if cap:\n",
    "    select_occlusions = select_occlusions + '_cap'\n",
    "    non_selected_occlusions.remove('_cap')"
   ]
  },
  {
   "cell_type": "code",
   "execution_count": null,
   "id": "d8ef45ab-72f8-4fd5-80ca-60490d78c722",
   "metadata": {},
   "outputs": [],
   "source": [
    "file_names = [os.path.basename(file) for file in glob.glob(embeddings_synthetic_images + '*.npy')]\n",
    "filtered_file_names = []\n",
    "for file in file_names:\n",
    "    if select_occlusions in file and not any(str in file for str in non_selected_occlusions):\n",
    "        filtered_file_names.append(file)"
   ]
  },
  {
   "cell_type": "code",
   "execution_count": null,
   "id": "a5134d00-3338-4185-9fc3-f29b7094b8f8",
   "metadata": {
    "tags": []
   },
   "outputs": [],
   "source": [
    "def similarity(embeddings1, embeddings2):\n",
    "    embeddings1=embeddings1.astype(np.float64)\n",
    "    embeddings2=embeddings2.astype(np.float64)\n",
    "    # Cosine similarity\n",
    "    dot = np.sum(np.multiply(embeddings1, embeddings2), axis=0)\n",
    "    norm = np.linalg.norm(embeddings1, axis=0) * np.linalg.norm(embeddings2, axis=0)\n",
    "    similarity = dot/norm\n",
    "    similarity = min(1,similarity)\n",
    "    return similarity"
   ]
  },
  {
   "cell_type": "code",
   "execution_count": null,
   "id": "1f68257d-116f-4c5b-bdda-422138e546df",
   "metadata": {
    "tags": []
   },
   "outputs": [],
   "source": [
    "# Synthetic images\n",
    "\n",
    "mated_comp_count = 0\n",
    "non_mated_comp_count = 0\n",
    "\n",
    "synthetic_images_mated = np.zeros(0, dtype=float, order='C')\n",
    "synthetic_images_non_mated = np.zeros(0, dtype=float, order='C')\n",
    "\n",
    "ids = [file.split('d')[0] for file in filtered_file_names]\n",
    "ids = [*set(ids)]\n",
    "\n",
    "for id in tqdm(ids, file=sys.stdout):\n",
    "    images_of_id = glob.glob(embeddings_synthetic_images + id + '*')\n",
    "    filtered_images_of_id = []\n",
    "    for image in images_of_id:\n",
    "        if select_occlusions in image and not any(str in image for str in non_selected_occlusions):\n",
    "          filtered_images_of_id.append(image)\n",
    "    reference_feature = random.choice(filtered_images_of_id)\n",
    "    reference_feature_embedding = np.load(reference_feature)\n",
    "    for file in filtered_file_names:\n",
    "        file_path = embeddings_synthetic_images + file\n",
    "        if file.split('d')[0] == id: # Mated comparison\n",
    "            if not (file_path == reference_feature):\n",
    "                mated_comp_count += 1\n",
    "                mated_feature_embedding = np.load(file_path)\n",
    "                synthetic_images_mated = np.append(synthetic_images_mated,\n",
    "                                              similarity(reference_feature_embedding, mated_feature_embedding))\n",
    "        else: # Non-mated comparison\n",
    "            non_mated_comp_count += 1\n",
    "            non_mated_feature_embedding = np.load(file_path)\n",
    "            synthetic_images_non_mated = np.append(synthetic_images_non_mated,\n",
    "                                              similarity(reference_feature_embedding, non_mated_feature_embedding))            \n",
    "\n",
    "print(\"Synthetic mated comparisons:\", mated_comp_count)\n",
    "print(\"Synthetic non-mated comparisons:\", non_mated_comp_count)"
   ]
  },
  {
   "cell_type": "code",
   "execution_count": null,
   "id": "3656b6cd-6b1d-4289-b821-3b297adc31fd",
   "metadata": {
    "tags": []
   },
   "outputs": [],
   "source": [
    "# Saving the similarity score if scores exist\n",
    "if select_occlusions:\n",
    "    if (len(synthetic_images_mated) == 0 and len(synthetic_images_non_mated) == 0):\n",
    "        print(\n",
    "            \"No embeddings for the given occlusions found in the directories\",\n",
    "            file=sys.stderr)\n",
    "    else:\n",
    "        if not os.path.isdir(scores_path_root):\n",
    "            os.makedirs(scores_path_root)\n",
    "\n",
    "        if len(synthetic_images_mated) == 0:\n",
    "            print(\"No mated comparisons for the given occlusions\",\n",
    "                  file=sys.stderr)\n",
    "        else:\n",
    "            np.save((scores_path_root + \"synthetic_images_mated\"\n",
    "                     + select_occlusions + \".npy\"), synthetic_images_mated)\n",
    "\n",
    "        if len(synthetic_images_non_mated) == 0:\n",
    "            print(\"No non-mated comparisons for the given occlusions\",\n",
    "                  file=sys.stderr)\n",
    "        else:\n",
    "            np.save((scores_path_root + \"synthetic_images_non-mated\"\n",
    "                     + select_occlusions + \".npy\"), synthetic_images_non_mated)\n",
    "\n",
    "else:\n",
    "    print(\"Run terminated because occlusions is not selected\", file=sys.stderr)"
   ]
  }
 ],
 "metadata": {
  "kernelspec": {
   "display_name": "Python 3 (ipykernel)",
   "language": "python",
   "name": "python3"
  },
  "language_info": {
   "codemirror_mode": {
    "name": "ipython",
    "version": 3
   },
   "file_extension": ".py",
   "mimetype": "text/x-python",
   "name": "python",
   "nbconvert_exporter": "python",
   "pygments_lexer": "ipython3",
   "version": "3.10.11"
  }
 },
 "nbformat": 4,
 "nbformat_minor": 5
}
