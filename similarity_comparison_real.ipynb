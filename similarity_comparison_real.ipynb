{
 "cells": [
  {
   "cell_type": "code",
   "execution_count": null,
   "id": "146d6d80-aff7-40f8-9dd2-ea1407eeb3e9",
   "metadata": {
    "tags": []
   },
   "outputs": [],
   "source": [
    "import numpy as np\n",
    "import glob\n",
    "import sys\n",
    "from tqdm.auto import tqdm\n",
    "import os\n",
    "import random"
   ]
  },
  {
   "cell_type": "code",
   "execution_count": null,
   "id": "9411ce25-12b6-4dd9-9c7e-7e5d0454e656",
   "metadata": {
    "tags": []
   },
   "outputs": [],
   "source": [
    "# Paths used in the script\n",
    "embeddings_real_images = './embeddings/real/'\n",
    "scores_path = './similarity_scores/'\n",
    "\n",
    "# Get all the file names with *.npy in the embeddings_real_images folder\n",
    "file_names = [os.path.basename(file) for file in glob.glob(\n",
    "    embeddings_real_images + '*.npy')]"
   ]
  },
  {
   "cell_type": "code",
   "execution_count": null,
   "id": "a5134d00-3338-4185-9fc3-f29b7094b8f8",
   "metadata": {
    "tags": []
   },
   "outputs": [],
   "source": [
    "def similarity(embeddings1, embeddings2):\n",
    "    embeddings1=embeddings1.astype(np.float64)\n",
    "    embeddings2=embeddings2.astype(np.float64)\n",
    "    # Cosine similarity\n",
    "    dot = np.sum(np.multiply(embeddings1, embeddings2), axis=0)\n",
    "    norm = np.linalg.norm(embeddings1, axis=0) * np.linalg.norm(embeddings2, axis=0)\n",
    "    similarity = dot/norm\n",
    "    similarity = min(1,similarity)\n",
    "    return similarity"
   ]
  },
  {
   "cell_type": "code",
   "execution_count": null,
   "id": "5c4a6c18-c253-42f6-bfa5-966b8fa8c938",
   "metadata": {
    "tags": []
   },
   "outputs": [],
   "source": [
    "# Real images\n",
    "mated_comp_count = 0\n",
    "non_mated_comp_count = 0\n",
    "equal_count = 0\n",
    "\n",
    "real_images_mated = np.zeros(0, dtype=float, order='C')\n",
    "real_images_non_mated = np.zeros(0, dtype=float, order='C')\n",
    "\n",
    "# extract filenames from only npy files\n",
    "file_names = [os.path.basename(file) for file in glob.glob(embeddings_real_images + '*.npy')]\n",
    "ids = [file.split('d')[0] for file in file_names] # extract id\n",
    "ids = [*set(ids)] # remove duplicates\n",
    "\n",
    "for id in tqdm(ids, file=sys.stdout, unit=' images'):\n",
    "    images_of_id = glob.glob(embeddings_real_images + id + '*')\n",
    "    reference_feature = random.choice(images_of_id)\n",
    "    reference_feature_embedding = np.load(reference_feature)\n",
    "    for file in glob.glob(embeddings_real_images + '*.npy'):\n",
    "        filename = os.path.basename(file)\n",
    "        if filename.split('d')[0] == id: # Mated comparison\n",
    "            if not (file == reference_feature):\n",
    "                mated_comp_count += 1\n",
    "                mated_feature_embedding = np.load(file)\n",
    "                real_images_mated = np.append(real_images_mated,\n",
    "                                              similarity(reference_feature_embedding, mated_feature_embedding))\n",
    "            else:\n",
    "                equal_count += 1\n",
    "        else: # Non-mated comparison\n",
    "            non_mated_comp_count += 1\n",
    "            non_mated_feature_embedding = np.load(file)\n",
    "            real_images_non_mated = np.append(real_images_non_mated,\n",
    "                                              similarity(reference_feature_embedding, non_mated_feature_embedding))\n",
    "\n",
    "print(f'Real mated comparisons: {mated_comp_count}')\n",
    "print(f'Real non-mated comparisons: {non_mated_comp_count}')\n",
    "print(f'Equal comparisons skipped:  {equal_count}')"
   ]
  },
  {
   "cell_type": "code",
   "execution_count": null,
   "id": "3656b6cd-6b1d-4289-b821-3b297adc31fd",
   "metadata": {
    "tags": []
   },
   "outputs": [],
   "source": [
    "# Saving the similarity score if scores exist\n",
    "\n",
    "if (len(real_images_mated) == 0 and len(real_images_non_mated) == 0):\n",
    "    print(f'No embeddings found in the {embeddings_real_images} directory',\n",
    "          file=sys.stderr)\n",
    "else:\n",
    "    if not os.path.isdir(scores_path):\n",
    "        os.makedirs(scores_path)\n",
    "\n",
    "    if len(real_images_mated) == 0:\n",
    "        print('No mated comparisons for real images',\n",
    "              file=sys.stderr)\n",
    "    else:\n",
    "        np.save((scores_path + 'real_images_mated'), real_images_mated)\n",
    "\n",
    "    if len(real_images_non_mated) == 0:\n",
    "        print('No non-mated comparisons for real images',\n",
    "              file=sys.stderr)\n",
    "    else:\n",
    "        np.save((scores_path + 'real_images_non-mated'), real_images_non_mated)"
   ]
  }
 ],
 "metadata": {
  "kernelspec": {
   "display_name": "Python 3 (ipykernel)",
   "language": "python",
   "name": "python3"
  },
  "language_info": {
   "codemirror_mode": {
    "name": "ipython",
    "version": 3
   },
   "file_extension": ".py",
   "mimetype": "text/x-python",
   "name": "python",
   "nbconvert_exporter": "python",
   "pygments_lexer": "ipython3",
   "version": "3.11.2"
  }
 },
 "nbformat": 4,
 "nbformat_minor": 5
}
